{
 "cells": [
  {
   "cell_type": "markdown",
   "id": "42df2714",
   "metadata": {},
   "source": [
    "1, \n",
    "Standard deviation measures the spread of individual data points. Standard error of the mean measures the spread of sample means, indicating the precision of the sample mean as an estimate of the population mean."
   ]
  },
  {
   "cell_type": "markdown",
   "id": "dd280267",
   "metadata": {},
   "source": [
    "2, \n",
    "Start with the sample mean from your data.\n",
    "\n",
    "Multiply the SEM by 1.96 (since for a normal distribution, 95% of values lie within 1.96 standard deviations from the mean).\n",
    "\n",
    "Add and subtract this value from the sample mean to create the confidence interval."
   ]
  },
  {
   "cell_type": "markdown",
   "id": "5ed23e34",
   "metadata": {},
   "source": [
    "3,\n",
    "Generate a large number of bootstrapped samples (resamples with replacement) from your original dataset, each of the same size as the original sample.\n",
    "\n",
    "Calculate the mean for each of these bootstrapped samples to build a distribution of bootstrapped means.\n",
    "\n",
    "Use the np.quantile(...) function to find the 2.5th percentile and the 97.5th percentile of the bootstrapped means. These percentiles give the lower and upper bounds of the 95% confidence interval."
   ]
  },
  {
   "cell_type": "code",
   "execution_count": 1,
   "id": "5351c493",
   "metadata": {},
   "outputs": [
    {
     "name": "stdout",
     "output_type": "stream",
     "text": [
      "95% Bootstrap Confidence Interval for the Mean: [13.5    17.5025]\n",
      "95% Bootstrap Confidence Interval for the Median: [13. 18.]\n"
     ]
    }
   ],
   "source": [
    "4,\n",
    "import numpy as np\n",
    "\n",
    "# Sample data (you can replace this with your actual sample)\n",
    "data = [12, 15, 14, 10, 18, 16, 17, 19, 21, 13]\n",
    "\n",
    "# Number of bootstrap samples\n",
    "n_bootstrap = 1000\n",
    "\n",
    "# Function to calculate bootstrap means (this can be changed to median)\n",
    "def bootstrap_sample_stat(data, n_bootstrap, statistic_function):\n",
    "    bootstrap_stats = []\n",
    "    n = len(data)\n",
    "    \n",
    "    for _ in range(n_bootstrap):\n",
    "        # Create a bootstrap sample (sampling with replacement from the original data)\n",
    "        bootstrap_sample = np.random.choice(data, size=n, replace=True)\n",
    "        \n",
    "        # Calculate the statistic (mean or median) for this bootstrap sample\n",
    "        bootstrap_stat = statistic_function(bootstrap_sample)\n",
    "        \n",
    "        # Store the statistic for this sample\n",
    "        bootstrap_stats.append(bootstrap_stat)\n",
    "    \n",
    "    return bootstrap_stats\n",
    "\n",
    "# Get bootstrap means\n",
    "bootstrap_means = bootstrap_sample_stat(data, n_bootstrap, np.mean)\n",
    "\n",
    "# Calculate 95% confidence interval (2.5th and 97.5th percentiles of bootstrap means)\n",
    "confidence_interval_mean = np.quantile(bootstrap_means, [0.025, 0.975])\n",
    "\n",
    "# Print the confidence interval for the mean\n",
    "print(f\"95% Bootstrap Confidence Interval for the Mean: {confidence_interval_mean}\")\n",
    "\n",
    "# To calculate a 95% bootstrap confidence interval for the median, change np.mean to np.median\n",
    "bootstrap_medians = bootstrap_sample_stat(data, n_bootstrap, np.median)\n",
    "confidence_interval_median = np.quantile(bootstrap_medians, [0.025, 0.975])\n",
    "\n",
    "# Print the confidence interval for the median\n",
    "print(f\"95% Bootstrap Confidence Interval for the Median: {confidence_interval_median}\")\n"
   ]
  },
  {
   "cell_type": "markdown",
   "id": "88b60b51",
   "metadata": {},
   "source": [
    "Session Summary: In this session, we explored several concepts related to bootstrapping and confidence intervals:\n",
    "\n",
    "Difference between standard deviation and standard error: We discussed how standard deviation measures the spread of individual data points, while the standard error measures the spread of sample means (i.e., how much the sample mean is expected to vary from the true population mean).\n",
    "\n",
    "Using the standard error for a 95% confidence interval: We explained how to use the standard error of the mean to create a 95% confidence interval by multiplying the SEM by 1.96 and adding/subtracting this from the sample mean.\n",
    "\n",
    "Bootstrapped confidence intervals using percentiles: We discussed how to calculate a 95% bootstrapped confidence interval directly from bootstrapped sample means by using the 2.5th and 97.5th percentiles of the bootstrapped means, which provides an exact 95% interval.\n",
    "\n",
    "Code to produce a 95% bootstrap confidence interval: We developed Python code to calculate a 95% bootstrap confidence interval for the mean. We also explained how to adapt this code to calculate a 95% confidence interval for the median or other statistics by simply changing the function used to calculate the statistic (e.g., np.mean to np.median).\n",
    "\n",
    "Link: https://chatgpt.com/c/66ff4e7e-9528-8000-8e34-b7db6ce9c07a"
   ]
  },
  {
   "cell_type": "markdown",
   "id": "7cf046d7",
   "metadata": {},
   "source": [
    "5,\n",
    "We need to distinguish between the population parameter and the sample statistic because a confidence interval is used to estimate the unknown population parameter based on the sample statistic. The sample statistic is calculated from the data we have, while the population parameter represents the true, but often unknown, value for the entire population. Confidence intervals provide a range of plausible values for the population parameter, acknowledging that the sample statistic may vary due to random sampling error."
   ]
  },
  {
   "cell_type": "markdown",
   "id": "7b372af6",
   "metadata": {},
   "source": [
    "6，\n",
    "What is the process of bootstrapping?\n",
    "\n",
    "Okay, so imagine you have a small sample of data, like you asked 20 friends how many hours they sleep each night. Bootstrapping is a clever trick we can use to understand more about this sample without needing more data. What you do is take that sample and create a bunch of new “fake” samples by randomly picking data points from your original set over and over, even allowing repeats. So, you might grab 10 hours of sleep from one friend several times, while skipping others in some samples. It’s like making new “what-if” scenarios using the same data. Then, you calculate whatever statistic you care about (like the average sleep) for each of these new samples to get a sense of the variation in your estimates.\n",
    "\n",
    "What is the main purpose of bootstrapping?\n",
    "\n",
    "The main point of bootstrapping is to help us understand the uncertainty in our estimate. It’s useful when we don’t have tons of data but still want to make guesses about the overall population. So, instead of relying on one single number from our original data, we get lots of “what-if” versions, which give us a clearer picture of how much our results might change if we could take many samples from the population.\n",
    "\n",
    "How could you use bootstrapping to assess if your hypothesized guess about the average is plausible?\n",
    "\n",
    "Let’s say you think the average number of hours people sleep in the whole population is 8 hours, but from your sample, you’re not quite sure. Here’s where bootstrapping helps! You’d take your sample, use the bootstrapping method to create lots of new samples (like we talked about earlier), and calculate the average sleep time for each one. This gives you a range of possible averages based on your sample data.\n",
    "\n",
    "Now, you check to see if your guess of 8 hours falls inside this range. If the bootstrapped averages are often close to 8, it suggests your guess might be reasonable. But, if most of the bootstrapped averages are far away from 8, it means your guess is probably off. In short, bootstrapping helps you see if the data you have lines up with your hypothesis."
   ]
  },
  {
   "cell_type": "markdown",
   "id": "a61c2c5e",
   "metadata": {},
   "source": [
    "7，\n",
    "When we talk about confidence intervals, we’re trying to determine a range of values where we think the true population parameter (like an average or mean) might be. If this interval covers zero, it means that \"zero effect\" (no difference, no impact) is a possibility within that range.\n",
    "\n",
    "If zero is included in the confidence interval, we can’t reject the null hypothesis because there’s still a chance that the drug has no effect.\n",
    "\n",
    "If zero isn’t included, we reject the null hypothesis because the data suggests the drug has a measurable effect."
   ]
  },
  {
   "cell_type": "markdown",
   "id": "98fe9e72",
   "metadata": {},
   "source": [
    "8.\n",
    ". Problem Introduction:\n",
    "Null Hypothesis (H₀) Explanation: In this context, the null hypothesis could be that the vaccine has no effect on the health scores, meaning the average change in health score (FinalHealthScore - InitialHealthScore) is zero. If this is true, we would expect no significant improvement or decline in health scores due to the vaccine.\n",
    "\n",
    "Data Visualization: To illustrate and motivate the comparison, you can create a plot (like a histogram or boxplot) showing the difference between initial and final health scores for each patient. This helps to see visually if there's a pattern of improvement or decline.\n",
    "\n",
    "2. Quantitative Analysis:\n",
    "Methodology: You can use bootstrapping to estimate the mean difference between initial and final health scores. By resampling the data with replacement multiple times, you’ll build a distribution of possible outcomes. This allows you to compute a confidence interval for the mean difference.\n",
    "\n",
    "You would want to calculate:\n",
    "\n",
    "The mean difference between the initial and final health scores.\n",
    "The bootstrapped confidence intervals.\n",
    "Supporting Visualizations: Use bootstrapped data to show the distribution of mean differences, including the confidence interval. This could be visualized through a density plot or similar.\n",
    "\n",
    "3. Findings and Discussion:\n",
    "Conclusion Regarding the Null Hypothesis: Based on the results of the bootstrapping, you’ll determine if the null hypothesis of \"no effect\" can be rejected. If the confidence interval does not include zero, you would reject the null hypothesis, indicating the vaccine likely has an effect. If the confidence interval includes zero, you fail to reject the null, suggesting that the vaccine might not have a significant effect.\n",
    "\n",
    "Further Considerations: Consider other factors that could influence the results, such as patient demographics (age, gender) and whether they may have an impact on the health score changes."
   ]
  },
  {
   "cell_type": "markdown",
   "id": "cb3ab57a",
   "metadata": {},
   "source": [
    "9,\n",
    "Yes."
   ]
  }
 ],
 "metadata": {
  "kernelspec": {
   "display_name": "Python 3 (ipykernel)",
   "language": "python",
   "name": "python3"
  },
  "language_info": {
   "codemirror_mode": {
    "name": "ipython",
    "version": 3
   },
   "file_extension": ".py",
   "mimetype": "text/x-python",
   "name": "python",
   "nbconvert_exporter": "python",
   "pygments_lexer": "ipython3",
   "version": "3.11.6"
  }
 },
 "nbformat": 4,
 "nbformat_minor": 5
}
